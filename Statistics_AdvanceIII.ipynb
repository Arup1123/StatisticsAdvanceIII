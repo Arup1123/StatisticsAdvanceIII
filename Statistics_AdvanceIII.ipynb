{
 "cells": [
  {
   "cell_type": "markdown",
   "id": "24a3773a",
   "metadata": {},
   "source": [
    "Statistics_AdvanceIII"
   ]
  },
  {
   "cell_type": "markdown",
   "id": "ba1a5683",
   "metadata": {},
   "source": [
    "Q1. What is Estimation Statistics? Explain point estimate and interval estimate."
   ]
  },
  {
   "cell_type": "markdown",
   "id": "1fca2ca5",
   "metadata": {},
   "source": [
    "Ans: Estimation statistics is a data analysis framework that uses combination of effect sizes, confidence intervals, precision\n",
    "     planning, and meta-analysis to plan experiments, analyze data and interpret results. Estimation Statistics is sometimes\n",
    "     referred to as the new statistics.\n",
    "     Point Estimate: when hearing the word point, think of it in terms of geometry. It is a one-dimensional, exact or fixed\n",
    "     location within a coordinate plan. This concept can also be applied to point estimate. A point estimate is a single sample\n",
    "     value estimate of a parameter. The parameter could be the population mean, population standard deviation, or population\n",
    "     variance. A point estimate will be computed as a definite numerical value. Most commonly, using a population mean will be\n",
    "     used when measuring employee absences, student exam scores, or monthly profit margins. Point estimates depending on the          sample size of the population may not be the best indicator to analyze data. Thus, typing in the use of confidence              intervals can help improve the validity of point estimation.\n",
    "     Interval Estimate: Interval estimates uses a simple of data to calculate the interval of the possible values of an unknown\n",
    "     population parameter. Confidence intervals(often referred as CI) are intervals that will contain the most plaussible            information from data. Statisticians will use terminology such as 95% confidence because 95-percent of the data can be          accounted for, if thought of in terms out of 100. "
   ]
  },
  {
   "cell_type": "markdown",
   "id": "5f408a4b",
   "metadata": {},
   "source": []
  },
  {
   "cell_type": "markdown",
   "id": "f9e1e1ab",
   "metadata": {},
   "source": [
    "Q2. Write a Python function to estimate the  population mean using a sample mean and standard deviation."
   ]
  },
  {
   "cell_type": "code",
   "execution_count": 2,
   "id": "3f2f4406",
   "metadata": {},
   "outputs": [
    {
     "name": "stdout",
     "output_type": "stream",
     "text": [
      "Critical t_value: 2.045\n",
      "Margin of error: 5.026\n",
      "Confidence Interval: [57.074,67.126]\n",
      "The 0.95 confidence interval for the population mean is:\n",
      "Between 57.074 and 67.126\n"
     ]
    }
   ],
   "source": [
    "#Ans:\n",
    "import scipy.stats as stats\n",
    "import math\n",
    "def estimate(mean,sd,size):\n",
    "    confidence_level=0.95\n",
    "    alpha=0.05\n",
    "    df=size-1\n",
    "    standard_error=sd/math.sqrt(size)\n",
    "    critical_t=stats.t.ppf(1-alpha/2,df)\n",
    "    marginal_error=critical_t*standard_error\n",
    "    lower_bound=mean-marginal_error\n",
    "    upper_bound=mean+marginal_error\n",
    "    print(\"Critical t_value: {:.3f}\".format(critical_t))\n",
    "    print(\"Margin of error: {:.3f}\".format(marginal_error))\n",
    "    print(\"Confidence Interval: [{:.3f},{:.3f}]\".format(lower_bound,upper_bound))\n",
    "    print(\"The {} confidence interval for the population mean is:\".format(confidence_level))\n",
    "    print(\"Between {:.3f} and {:.3f}\".format(lower_bound,upper_bound))\n",
    "estimate(mean=62.1,sd=13.46,size=30)    \n",
    "    \n",
    "    "
   ]
  },
  {
   "cell_type": "markdown",
   "id": "2cd05edb",
   "metadata": {},
   "source": [
    "Q3. What is Hypothesis testing? Why is it used? State the importance of Hypothesis testing."
   ]
  },
  {
   "cell_type": "markdown",
   "id": "63653877",
   "metadata": {},
   "source": [
    "Ans: Hypothesis testing is a method that is used in making a statistical decision using experimental data. Hypothesis testing\n",
    "     is basically an assumption that we make about a population parameter. It evaluates two mutually exclusive statements about\n",
    "     a population to determine which statement is best supported by the sample data.\n",
    "     The purpose of statistical inference is to draw conclusions about a population on the basis of data obtained from a sample\n",
    "     of that population. Hypothesis testing is the process used to evaluate the strength of evidence from the sample and              provides a framework for making determinations related to the population, i.e, it provides a method for understanding how\n",
    "     reliably one can extrapolate observed findings in a sample under study to the larger population from which the sample was\n",
    "     drawn. The investigator formulates a specific hypothesis, evaluates data from the sample, and uses these data to decide\n",
    "     whether they support the specific hypothesis.\n",
    "     A hypothesis is a theory or proposition set forth as an explanation for the occurrence of some observed phenomenon,\n",
    "     asserted either as provisional conjecture to guide investigation, called a working hypothesis, or accepted as highly\n",
    "     probable in lieu of the established facts. A scientific hypothesis can become a theory or ultimately a law of nature if it\n",
    "     is proven by repeatable experiments. Hypothesis testing is common in statistics as a method of making decisions using\n",
    "     data. In other words, testing a hypothesis is trying to determine if our observation of some phenonmena is likely to have\n",
    "     really occurred based on statistics."
   ]
  },
  {
   "cell_type": "markdown",
   "id": "ebe96fc8",
   "metadata": {},
   "source": [
    "Q4. Create a hypothesis that states whether the average weight of male college students is greater than the average weight of\n",
    "    female college students."
   ]
  },
  {
   "cell_type": "markdown",
   "id": "c91527dd",
   "metadata": {},
   "source": [
    "Ans: Suppose, average weight of male college students=x\n",
    "              average weight of female college students=y\n",
    "              \n",
    "   Null hypothesis:x>y\n",
    "   Alternative hypothesis:x<=y (Two-tailed test)"
   ]
  },
  {
   "cell_type": "markdown",
   "id": "87e16947",
   "metadata": {},
   "source": [
    "Q5. Write a python script to conduct a hypothesis test on difference between two population means, given a sample from each         population.  "
   ]
  },
  {
   "cell_type": "code",
   "execution_count": 1,
   "id": "daf31469",
   "metadata": {},
   "outputs": [
    {
     "name": "stdout",
     "output_type": "stream",
     "text": [
      "Statistics=-0.634,p=0.530\n",
      "Same distributions (accept H0)\n"
     ]
    }
   ],
   "source": [
    "#Ans:\n",
    "import numpy as np\n",
    "import scipy.stats as stats\n",
    "x=np.array([14,15,15,16,13,8,14,17,16,14,19,20,21,15,15,16,16,13,14,12])\n",
    "y=np.array([15,17,14,17,14,8,12,19,19,14,17,22,24,16,13,16,13,18,15,13])\n",
    "def diff_2_population(population1,population2,alpha):                        #significance level, alpha=0.05\n",
    "    stat,p=stats.ttest_ind(population1,population2,equal_var=True)\n",
    "    print(\"Statistics={:.3f},p={:.3f}\".format(stat,p))\n",
    "    if p>alpha:\n",
    "        print(\"Same distributions (accept H0)\")\n",
    "    else:\n",
    "        print(\"Difference distributions (reject H0)\")\n",
    "diff_2_population(population1=x,population2=y,alpha=0.05)        "
   ]
  },
  {
   "cell_type": "markdown",
   "id": "5d49b3b4",
   "metadata": {},
   "source": [
    "Q6. What is null and alternative hypothesis? Give some examples."
   ]
  },
  {
   "cell_type": "markdown",
   "id": "e91dbfc7",
   "metadata": {},
   "source": [
    "Ans: The null hypothesis is a kind of hypothesis which explains the population parameter whose purpose is to test the validity\n",
    "     of the given experimental data. This hypothesis is either rejected or not rejected based on the viability of the given \n",
    "     population or sample. In other words, the null hypothesis is a hypothesis in which the sample observations results from the\n",
    "     chance .\n",
    "     Example:\n",
    "     1. If a medicine reduces the risk of cardiac stroke, then the null hypothesis should be \"the medicine doest not reduce the\n",
    "        chance of cardiac stroke\".\n",
    "     2. Are there is 100% chances of getting affected by dengue?\n",
    "        the null hypothesis should be \"there could be chances of getting affected by dengue but not 100%.\n",
    "     The alternative hypothesis is a statement used in statistical inference experiment. It is contradictory to the null\n",
    "     hypothesis. In hypothesis, an alternative theory is a statement which a researcher is testing. This statement is true from\n",
    "     the research's point of view and ultimately proves to reject the null to replace with it an alternative assumption.\n",
    "     Exmaple:\n",
    "     1. In the development of medicine, a hypothesis can be formulated that a new treatment for a disease is better the existing         one. Therefore, this hypothesis would be called an alternative hypothesis. But if the new treatment fails to be proved\n",
    "        correct, it will be called as a null hypothesis \n",
    "     2. Ethanol's boiling point is 173.1 deg F.\n",
    "        Solotion: There is a theory that states ethanol actually has a different boiling point, of over 174 deg F. The accepted\n",
    "                  fact that \"ethanol boils at 173.1 deg F is the null hypothesis while the theory \"ethanol boils at temaperature\n",
    "                  of 174 deg F\" is the alternative hypothesis.\n",
    "     \n",
    "        \n",
    "     "
   ]
  },
  {
   "cell_type": "markdown",
   "id": "bb092cff",
   "metadata": {},
   "source": [
    "Q7. Write down the steps involved in hypothesis testing."
   ]
  },
  {
   "cell_type": "markdown",
   "id": "af2efd2f",
   "metadata": {},
   "source": [
    "Ans: Steps in Hypothesis Testing:\n",
    "     1. We first identify the problem about which we want to make an assumption keeping in mind that our assumption should be\n",
    "        contradictory to one another.\n",
    "     2. We consider statical assumption such that the data is normal or not, statical independence between the data.\n",
    "     3. We decide our test data on which we will check our hypothesis.\n",
    "     4. The data for the tests are evaluated in this step we look for various scores in this step like z-score and mean values.\n",
    "     5. In this stage, we decide where we should accept the null hypothesis or reject the null hypothesis."
   ]
  },
  {
   "cell_type": "markdown",
   "id": "b33f9f5e",
   "metadata": {},
   "source": [
    "Q8. Define p-value and explain its significance in hypothesis testing."
   ]
  },
  {
   "cell_type": "markdown",
   "id": "901f1c6d",
   "metadata": {},
   "source": [
    "Ans: The P-value, or calculated probability, is the probability of finding the observed/extreme results when the null hypothesis\n",
    "     of a study-given problem is true. If our P-value is less than the chosen siginificance level then we reject the null            hypothesis i.e accept that our sample claims to support the alternative hypothesis.\n",
    "     In statistical hypothesis testing, the p-value is a probability measure of finding the observed, or more extreme, results,      when the null hypothesis of a given statistical test is true. The p-value is a primary value used to quantify the                statistical significance of the results of a hypothesis test. The main interpretation of the p-value is whether there's          enough evidence to reject the null hypothesis. Otherwise, we should not reject the null hypothesis. The conclusion about\n",
    "     the hypothesis test are drawn when the p-value of a test is compared against the level of significance, which plays the          role of a benchmark.  "
   ]
  },
  {
   "cell_type": "markdown",
   "id": "1371a791",
   "metadata": {},
   "source": [
    "Q9. Generate a student's t-distribution plot using Python's matplotlib library, with the degrees of freedom parameter set to 10. "
   ]
  },
  {
   "cell_type": "code",
   "execution_count": 9,
   "id": "3e4deb13",
   "metadata": {},
   "outputs": [
    {
     "data": {
      "image/png": "[encoded data removed]",
      "text/plain": [
       "<Figure size 640x480 with 1 Axes>"
      ]
     },
     "metadata": {},
     "output_type": "display_data"
    }
   ],
   "source": [
    "#Ans:\n",
    "import matplotlib.pyplot as plt\n",
    "import numpy as np\n",
    "t_data=np.random.standard_t(df=10,size=10)\n",
    "plt.plot(t_data)\n",
    "plt.show()"
   ]
  },
  {
   "cell_type": "markdown",
   "id": "e0881474",
   "metadata": {},
   "source": [
    "Q10. Write a python program to calculate the two sample t-test for independent samples, given two randm samples of equal size        and a null hypothesis that the population means are equal."
   ]
  },
  {
   "cell_type": "code",
   "execution_count": 8,
   "id": "7ace4497",
   "metadata": {},
   "outputs": [
    {
     "name": "stdout",
     "output_type": "stream",
     "text": [
      "t-value:  -0.9579319437618388\n",
      "p_value:  0.3392652865361585\n",
      "The population means are not same(rejected H0)\n"
     ]
    }
   ],
   "source": [
    "#Ans:\n",
    "import numpy as np\n",
    "from scipy.stats import ttest_ind\n",
    "np.random.seed(42)\n",
    "alpha=0.05                                         #significance lecel, alpha=0.05\n",
    "sample1=np.random.normal(loc=10,scale=2,size=100)\n",
    "sample2=np.random.normal(loc=10,scale=2,size=100)\n",
    "t_stat,p_value=ttest_ind(sample1,sample2)\n",
    "print(\"t-value: \",t_stat)\n",
    "print(\"p_value: \",p_value)\n",
    "if p_value<alpha:\n",
    "    print(\"The population means are same(accepted H0)\")\n",
    "else:\n",
    "    print(\"The population means are not same(rejected H0)\")"
   ]
  },
  {
   "cell_type": "markdown",
   "id": "a8e338ba",
   "metadata": {},
   "source": [
    "Q11. What is Student's t distribution? When to use the t-Distribution?"
   ]
  },
  {
   "cell_type": "markdown",
   "id": "adbb3dfc",
   "metadata": {},
   "source": [
    "Ans: Student's t distribution is a hypothetical probability distribution. It is also known as the t-Distribution and is used to \n",
    "     make presumptions about a mean when the standard deviation is not knownto us. It is symmetrical, bell-shaped distribution,\n",
    "     similar to the standard normal curve.\n",
    "     t-Distribution is used when:\n",
    "     1. The sample size is 30 or less than 30.\n",
    "     2. The population standard deviation is unknown.\n",
    "     3. The population distribution must be unimodal and skewed."
   ]
  },
  {
   "cell_type": "markdown",
   "id": "5f27ea1c",
   "metadata": {},
   "source": [
    "Q12. What is t-statistic? State the formula for t-statistic."
   ]
  },
  {
   "cell_type": "markdown",
   "id": "743b94b5",
   "metadata": {},
   "source": [
    "Ans: In statistics, the t-statistic is the ratio of the departure of the estimated value of a parameter from its hypothesized\n",
    "     value to its standard error. It is used in hypothesis testing via Student's t-test. The t-statistic is used in a t-test to\n",
    "     determine whether to support or reject the nulll hypothesis.\n",
    "     The t-test formula ia used to calculate a t-score that can be compared to the critical t-score from the t-distribution to\n",
    "     test for statistical significance. The formula changes depending on which type of t-test is being conducted. The t-score        for a one-sample t-test is equal to the sample mean minus the population mean divided by the sample standard deviation over\n",
    "     the square root of the sample size.\n",
    "     t-score=(M1-M2)/s/sqrt(n), where M1=sample mean, M2=population mean, s=standard deviation, n=sample size."
   ]
  },
  {
   "cell_type": "markdown",
   "id": "820c4d3f",
   "metadata": {},
   "source": [
    "Q13.  A cofee shop owner wants to estimate the average daily revenue for their shop. They take a random sample of 50 days and\n",
    "      find the sample mean revenue to be $500 with a standard deviation of $50. Estimate the population mean revenue with a 95%\n",
    "      confidence interval."
   ]
  },
  {
   "cell_type": "markdown",
   "id": "37a58f0e",
   "metadata": {},
   "source": [
    "Ans: Here, sample size, n=50\n",
    "           sample mean, M=500$\n",
    "           standard deviation, sd=50$\n",
    "           confident interval=95%\n",
    "           Marginal Error=2*sd/sqrt(n)=2*50/sqrt(50)=14.14\n",
    "           The 95% confident interval shown\n",
    "           M+-14.14\n",
    "           (485.86,514.14)\n",
    "           Therefore, the population mean in between (484.86,514.14)"
   ]
  },
  {
   "cell_type": "markdown",
   "id": "b9f7d546",
   "metadata": {},
   "source": [
    "Q14. A researcher hypothesizes that a new drug will decrease blood pressure by 10 mmHg. They conduct a clinical trial with 100\n",
    "     patients and find that the sample mean decrease in blood pressure is 8 mmHg with a standard deviation is 3 mmHg. Test the\n",
    "     hypothesis with a significance level of 0.05."
   ]
  },
  {
   "cell_type": "markdown",
   "id": "4b8c4533",
   "metadata": {},
   "source": [
    "Ans: Here, population mean, M=10, standard deviation, sd=3, sample mean, x=8, sample size, n=100, significance level, a=0.05\n",
    "     Null hypothesis:M=10\n",
    "     Alternative hypothesis:M is not equal to 10  (two tailed test)\n",
    "     Z value=1.96\n",
    "     Z-test=(x-M)/sd/sqrt(n)=(8-10)/3/sqrt(100)=-6.66\n",
    "     since, -6.66<-1.96, so, we reject the null hypothesis.\n",
    "     \n"
   ]
  },
  {
   "cell_type": "markdown",
   "id": "c55a039e",
   "metadata": {},
   "source": [
    "Q15. An electronics company produces a certain type of product with a mean weight of 5 pounds and a standard deviation of 0.5        pounds. A random sample of 25 products is taken, and the sample mean weight is found to be 4.8 pounds. Test the hypothesis\n",
    "     that the true mean weight of the products is less than 5 pounds with a significance level of 0.01."
   ]
  },
  {
   "cell_type": "markdown",
   "id": "637a5964",
   "metadata": {},
   "source": [
    "Ans: Here, population mean, M=5, standard deviation, sd=0.5, sample mean, x=4.8, sample size, n=25, significance level, a=0.01\n",
    "     Null hypothesis:M=5\n",
    "     Alternative hypothesis:M<5 (one tailed test)\n",
    "     Tcritical=T(a,n-1)=T(0.01,24)=2.492\n",
    "     Tcalculated=(x-M)/sd/sqrt(n)=(4.8-5)/0.5/sqrt(25)=-2\n",
    "     since, -2.492<-2 so, we accept the null hypothesis.\n",
    "     "
   ]
  },
  {
   "cell_type": "markdown",
   "id": "633acd22",
   "metadata": {},
   "source": [
    "Q16. Two groups of students are given different study materials to prepare for a test. The first group (n1=30) has a mean score      of 80 with a standard deviation of 10, and the second group (n2=40) has a mean score of 75 with a standard deviation of 8.\n",
    "     Test the hypothesis that the population means for the two groups are equal with a significance level of 0.01."
   ]
  },
  {
   "cell_type": "markdown",
   "id": "8a6c2867",
   "metadata": {},
   "source": [
    "Ans: Here, X1=80, sd1=10, n1=30 (Group1)\n",
    "           X2=75, sd2=8, n2=40  (Group2)\n",
    "           significance level, a=0.01\n",
    "           Null hypothesis: X1=X2\n",
    "           Alternative hypothesis: X1 is not equal to X2\n",
    "           t_test=(X1-X2)/sqrt(sd1**2/n1 + sd2**2/n2)=(80-75)/sqrt(10**2/30 + 8**2/40)=2.251\n",
    "           Tcritical=T(a,df)=T(0.01,n1+n2-1)=T(0.01,68)=2.660\n",
    "           since, 2.251<2.660, so, we accept the null hypothesis."
   ]
  },
  {
   "cell_type": "markdown",
   "id": "2fb7dba0",
   "metadata": {},
   "source": [
    "Q17. A marketing company wants to estimate the average number of ads watched by viewers during a TV program. They take a random\n",
    "    sample of 50 viewers and find that the sample mean is 4 with a standard deviation of 1.5. Estimate the population mean with\n",
    "    a 99% confidence interval."
   ]
  },
  {
   "cell_type": "markdown",
   "id": "3b5cc3d1",
   "metadata": {},
   "source": [
    "Ans: Here, sample mean, M=4, standard deviation, sd=1.5, sample size, n=50, confidence interval=99%\n",
    "     significance level, a=0.01\n",
    "     Za/2=Z0.005=1-0.005=0.995\n",
    "     Z_value=0.83891\n",
    "     Marginal error=Z_value*sd/sqrt(n)=0.83891*1.5/sqrt(50)=0.178\n",
    "     Confidence Interval=[3.822,4.178]\n",
    "     99% confidence that population mean is between 3.822 and 4.178"
   ]
  }
 ],
 "metadata": {
  "kernelspec": {
   "display_name": "Python 3 (ipykernel)",
   "language": "python",
   "name": "python3"
  },
  "language_info": {
   "codemirror_mode": {
    "name": "ipython",
    "version": 3
   },
   "file_extension": ".py",
   "mimetype": "text/x-python",
   "name": "python",
   "nbconvert_exporter": "python",
   "pygments_lexer": "ipython3",
   "version": "3.10.9"
  }
 },
 "nbformat": 4,
 "nbformat_minor": 5
}
